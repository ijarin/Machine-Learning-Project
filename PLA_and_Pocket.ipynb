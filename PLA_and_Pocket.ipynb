{
  "nbformat": 4,
  "nbformat_minor": 0,
  "metadata": {
    "colab": {
      "name": "PLA and Pocket.ipynb",
      "provenance": [],
      "collapsed_sections": []
    },
    "kernelspec": {
      "name": "python3",
      "display_name": "Python 3"
    }
  },
  "cells": [
    {
      "cell_type": "code",
      "metadata": {
        "id": "zxxodY31ogzN",
        "outputId": "a2f17309-51ed-49e7-a0f5-1c44c4147c0d",
        "colab": {
          "base_uri": "https://localhost:8080/",
          "height": 72
        }
      },
      "source": [
        "#create the truth table for XOR gate\n",
        "import numpy as np\n",
        "x=np.array([[1,1,1,1],[0,0,1,1],[0,1,0,1]]) #x0,x1,x2\n",
        "y=np.array([0,1,1,0]) #output\n",
        "print(\"The Truth Table:\",x,y)\n"
      ],
      "execution_count": null,
      "outputs": [
        {
          "output_type": "stream",
          "text": [
            "The Truth Table: [[1 1 1 1]\n",
            " [0 0 1 1]\n",
            " [0 1 0 1]] [0 1 1 0]\n"
          ],
          "name": "stdout"
        }
      ]
    },
    {
      "cell_type": "code",
      "metadata": {
        "id": "xDSYO7f7rn6R",
        "outputId": "d59eff3f-892a-41dc-8227-af339237f3f2",
        "colab": {
          "base_uri": "https://localhost:8080/",
          "height": 35
        }
      },
      "source": [
        "#Pick the random weights (w0,w1,w2)\n",
        "import random\n",
        "w0=random.uniform(-1, 1)\n",
        "w1=random.uniform(-1, 1)\n",
        "w2=random.uniform(-1, 1)\n",
        "w=np.array([w0,w1,w2])\n",
        "print(w)"
      ],
      "execution_count": null,
      "outputs": [
        {
          "output_type": "stream",
          "text": [
            "[-0.13253331  0.48924775 -0.32854302]\n"
          ],
          "name": "stdout"
        }
      ]
    },
    {
      "cell_type": "code",
      "metadata": {
        "id": "-4Qlf6PLaIjb"
      },
      "source": [
        "w_initial=[w0,w1,w2]"
      ],
      "execution_count": null,
      "outputs": []
    },
    {
      "cell_type": "code",
      "metadata": {
        "id": "MWjcRokQuzq_"
      },
      "source": [
        "#calculate the slope 'm' and co-efficient 'c' of y=mx+c\n",
        "def points(X,W):\n",
        "  c=-W[0]/W[2]\n",
        "  m=-W[1]/W[2]\n",
        "  y=np.multiply(X,m)+c\n",
        "  return y"
      ],
      "execution_count": null,
      "outputs": []
    },
    {
      "cell_type": "code",
      "metadata": {
        "id": "Hx-aZtnf2ra_"
      },
      "source": [
        "#check the weights and find if it reach the expected output values\n",
        "def predict(row, weights):\n",
        "\tactivation = weights[0]\n",
        "\tfor i in range(len(row)-1):\n",
        "\t\tactivation += weights[i + 1] * row[i]\n",
        "\treturn 1.0 if activation >= 0.0 else 0.0"
      ],
      "execution_count": null,
      "outputs": []
    },
    {
      "cell_type": "code",
      "metadata": {
        "id": "mhGc7OOt4--t",
        "outputId": "d673065d-5e2e-446a-9628-065aafec4473",
        "colab": {
          "base_uri": "https://localhost:8080/",
          "height": 90
        }
      },
      "source": [
        "#create the truth table (merging x and y) for XOR\n",
        "truth_table=np.array([[0,0,0],[0,1,1],[1,0,1],[1,1,0]])\n",
        "print(truth_table)"
      ],
      "execution_count": null,
      "outputs": [
        {
          "output_type": "stream",
          "text": [
            "[[0 0 0]\n",
            " [0 1 1]\n",
            " [1 0 1]\n",
            " [1 1 0]]\n"
          ],
          "name": "stdout"
        }
      ]
    },
    {
      "cell_type": "code",
      "metadata": {
        "id": "1gnbxam3M4pJ",
        "outputId": "dc29bc3e-03a5-42f2-a449-d7131e4f03e0",
        "colab": {
          "base_uri": "https://localhost:8080/",
          "height": 108
        }
      },
      "source": [
        "#Check if initial weight values can predict the output\n",
        "current_error=0\n",
        "for row in truth_table:\n",
        "  prediction=predict(row,w) #w=initial random weights (w0,w1,w2)\n",
        "  print(\"Expected=%d, Predicted=%d\" % (row[-1], prediction))\n",
        "  e=row[-1]-prediction\n",
        "  current_error=e**2+current_error\n",
        "\n",
        "print(current_error)\n",
        "\n",
        "\n",
        "  \n"
      ],
      "execution_count": null,
      "outputs": [
        {
          "output_type": "stream",
          "text": [
            "Expected=0, Predicted=0\n",
            "Expected=1, Predicted=0\n",
            "Expected=1, Predicted=1\n",
            "Expected=0, Predicted=1\n",
            "2.0\n"
          ],
          "name": "stdout"
        }
      ]
    },
    {
      "cell_type": "code",
      "metadata": {
        "id": "-auAYsvSMx68"
      },
      "source": [
        "# Estimate Perceptron weights  calculating epoch independently (for PLA)\n",
        "def train_weights(train, l_rate, n_epoch,weights):\n",
        "\t#weights = weights\n",
        "\tfor epoch in range(n_epoch):\n",
        "\t\t#error=100\n",
        "\t\tsum_error = 0\n",
        "\t\terror=np.zeros(len(train))\n",
        "\t\tfor row in train:\n",
        "\t\t\tprediction = predict(row, weights)\n",
        "\t\t\terror = row[-1] - prediction\n",
        "\t\t\t#print(error)\n",
        "\t\t\tsum_error = (error**2)+sum_error\n",
        "\t\t\tweights[0] = weights[0] + l_rate * error\n",
        "\t\t\tfor i in range(len(row)-1):\n",
        "\t\t\t\tweights[i + 1] = weights[i + 1] + l_rate * error * row[i]\n",
        "\t\t#print('epoch=%d, lrate=%.3f, error=%.3f' % (epoch, l_rate, sum_error))\n",
        "\treturn weights"
      ],
      "execution_count": null,
      "outputs": []
    },
    {
      "cell_type": "code",
      "metadata": {
        "id": "MGJ-ScFRApIp",
        "outputId": "88e371a3-4267-42fa-9ffb-571cf9c76c37",
        "colab": {
          "base_uri": "https://localhost:8080/",
          "height": 54
        }
      },
      "source": [
        "#calculate the weights using PLA using number of epoch=500\n",
        "l_rate = 0.001\n",
        "n_epoch = 500\n",
        "w=[w0,w1,w2] \n",
        "print(w)\n",
        "w_PLA = train_weights(truth_table, l_rate, n_epoch,w)\n",
        "print(w_PLA)"
      ],
      "execution_count": null,
      "outputs": [
        {
          "output_type": "stream",
          "text": [
            "[-0.13253330716491774, 0.48924774789439573, -0.3285430215524412]\n",
            "[0.0004666928350823751, 0.15824774789439544, -0.15954302155244104]\n"
          ],
          "name": "stdout"
        }
      ]
    },
    {
      "cell_type": "code",
      "metadata": {
        "id": "YWvh58gRHLCt",
        "outputId": "b74adf0c-28ae-4e79-a1b9-089392b9d900",
        "colab": {
          "base_uri": "https://localhost:8080/",
          "height": 90
        }
      },
      "source": [
        "#Check if calculated weight values can predict the output for PLA\n",
        "for row in truth_table:\n",
        "  prediction=predict(row,w_PLA) #w=initial random weights (w0,w1,w2)\n",
        "  print(\"Expected=%d, Predicted=%d\" % (row[-1], prediction))\n",
        "  #e=row[-1]-prediction\n",
        "  #print(e)\n"
      ],
      "execution_count": null,
      "outputs": [
        {
          "output_type": "stream",
          "text": [
            "Expected=0, Predicted=1\n",
            "Expected=1, Predicted=0\n",
            "Expected=1, Predicted=1\n",
            "Expected=0, Predicted=0\n"
          ],
          "name": "stdout"
        }
      ]
    },
    {
      "cell_type": "code",
      "metadata": {
        "id": "_Tk_If_MpatS"
      },
      "source": [
        "# Estimate Perceptron weights  calculating epoch independently for pocket algorithm\n",
        "def train_weights_forP(train, l_rate, n_epoch,weights):\n",
        "\tfor epoch in range(n_epoch):\n",
        "\t\t#error=100\n",
        "\t\tsum_error = 0.0\n",
        "\t\terror=np.zeros(len(train))\n",
        "\t\tfor row in train:\n",
        "\t\t\tprediction = predict(row, weights)\n",
        "\t\t\terror = row[-1] - prediction\n",
        "\t\t\t#print(error)\n",
        "\t\t\tsum_error = (error**2)+sum_error\n",
        "\t\t\tweights[0] = weights[0] + l_rate * error\n",
        "\t\t\tfor i in range(len(row)-1):\n",
        "\t\t\t\tweights[i+1] = weights[i+1] + l_rate * error * row[i]\n",
        "\t\t#print('epoch=%d, lrate=%.3f, error=%.3f' % (epoch, l_rate, sum_error))\n",
        "\treturn weights,sum_error"
      ],
      "execution_count": null,
      "outputs": []
    },
    {
      "cell_type": "code",
      "metadata": {
        "id": "IY6qfFIiwW2a"
      },
      "source": [
        "#Function to calculate weights using pocket algorithm\n",
        "def train_Pocket(train,l_rate,iter,current_error,weights):\n",
        "  final= weights   #initialization\n",
        "  error_t=np.zeros(iter)\n",
        "  error_t[0]=current_error\n",
        "  for i in range(iter-1):\n",
        "      wt,current_error=train_weights_forP(train,l_rate,1,final)\n",
        "      error_t[i+1]=current_error\n",
        "      if (error_t[i]>error_t[i+1]):\n",
        "        final=wt\n",
        "        #print(final)\n",
        "      else:\n",
        "        final=final\n",
        "  return final,error_t\n",
        "  "
      ],
      "execution_count": null,
      "outputs": []
    },
    {
      "cell_type": "code",
      "metadata": {
        "id": "RQc1ceEQHaIO"
      },
      "source": [
        "l_rate = 0.001\n",
        "n_epoch = 500\n",
        "w_initial=[w0,w1,w2]\n",
        "print(w_initial)\n",
        "w_pocket,error_t = train_Pocket(truth_table, l_rate, n_epoch,current_error,w_initial)\n",
        "print(w_pocket)\n",
        "print(error_t)"
      ],
      "execution_count": null,
      "outputs": []
    },
    {
      "cell_type": "code",
      "metadata": {
        "id": "it_Qo0SK1Oh-",
        "outputId": "24a5f6b7-e27b-4952-e3f4-17f42a60f8e6",
        "colab": {
          "base_uri": "https://localhost:8080/",
          "height": 90
        }
      },
      "source": [
        "#Check if calculated weight values can predict the output for Pocket algorithm\n",
        "for row in truth_table:\n",
        "  prediction=predict(row,w_pocket) #w=initial random weights (w0,w1,w2)\n",
        "  print(\"Expected=%d, Predicted=%d\" % (row[-1], prediction))\n",
        "  #e=row[-1]-prediction\n",
        "  #print(e)\n"
      ],
      "execution_count": null,
      "outputs": [
        {
          "output_type": "stream",
          "text": [
            "Expected=0, Predicted=0\n",
            "Expected=1, Predicted=0\n",
            "Expected=1, Predicted=1\n",
            "Expected=0, Predicted=0\n"
          ],
          "name": "stdout"
        }
      ]
    },
    {
      "cell_type": "code",
      "metadata": {
        "id": "3UEURhwrLLhr"
      },
      "source": [
        "#w_pocket=[-0.0005333071649176249, 0.15824774789439544, -0.16054302155244105]\n",
        "#w_PLA=[0.0004666928350823751, 0.15824774789439544, -0.15954302155244104]"
      ],
      "execution_count": null,
      "outputs": []
    },
    {
      "cell_type": "code",
      "metadata": {
        "id": "DzbsNd_aI1sl"
      },
      "source": [
        "#Plot the values against the actual standard one\n",
        "#calculate points over X-axis and Y-axis\n",
        "x10=[0,1]\n",
        "x20=[0,1]\n",
        "x11=[0,1]\n",
        "x21=[1,0]\n",
        "wt=np.array([-1,.95,.95])\n",
        "px=np.array([1,0]) #random value for x1, for pocket weights\n",
        "py1_pocket=points(px[0],w_pocket) #calculate the value for x2,for pocket weights\n",
        "py2_pocket=points(px[1],w_pocket)\n",
        "py_pocket=np.array([py1_pocket,py2_pocket])\n",
        "px=np.array([1,0]) #random value for x1, for PLA weights\n",
        "py1_pla=points(px[0],w_PLA) #calculate the value for x2,for PLA weights\n",
        "py2_pla=points(px[1],w_PLA)\n",
        "py_pla=np.array([py1_pla,py2_pla])\n",
        "#py1_rand=points(px[0],w_initial) #calculate the value for x2,for random initial weights\n",
        "#py2_rand=points(px[1],w_initial)\n",
        "#py_rand=np.array([py1_rand,py2_rand])\n"
      ],
      "execution_count": null,
      "outputs": []
    },
    {
      "cell_type": "code",
      "metadata": {
        "id": "HlNS4l6FJqP3",
        "outputId": "e30f5869-4eeb-4bbe-96b1-a40edfaac00b",
        "colab": {
          "base_uri": "https://localhost:8080/",
          "height": 302
        }
      },
      "source": [
        "import matplotlib.pyplot as plt\n",
        "from google.colab import files\n",
        "test1 = plt.figure()\n",
        "plt.plot(x10, x20, 'o', color='red')\n",
        "plt.plot(x11, x21, 'o', color='blue')\n",
        "plt.plot(px, py_pocket, linestyle='--',marker='.',color='black',label='Boundary for Pocket Algorithm',linewidth=1)  \n",
        "plt.plot(px, py_pla,linestyle='--', marker='.',color='green',label='Boundary for PLA',linewidth=1) \n",
        "#plt.plot(px, py_rand,linestyle='--', marker='.',color='green',label='Boundary with Random Initial Weights',linewidth=1.2) \n",
        "# naming the x axis \n",
        "x=plt.xlabel('X1', fontsize='15') \n",
        "x.set_color(\"black\")\n",
        "# naming the y axis \n",
        "y=plt.ylabel('X2 ',fontsize='15') \n",
        "y.set_color(\"black\")\n",
        "\n",
        "plt.legend()\n",
        "#plt.ylim([0,2])"
      ],
      "execution_count": null,
      "outputs": [
        {
          "output_type": "execute_result",
          "data": {
            "text/plain": [
              "<matplotlib.legend.Legend at 0x7f144d3e1cc0>"
            ]
          },
          "metadata": {
            "tags": []
          },
          "execution_count": 67
        },
        {
          "output_type": "display_data",
          "data": {
            "image/png": "[encoded data removed]",
            "text/plain": [
              "<Figure size 432x288 with 1 Axes>"
            ]
          },
          "metadata": {
            "tags": [],
            "needs_background": "light"
          }
        }
      ]
    }
  ]
}