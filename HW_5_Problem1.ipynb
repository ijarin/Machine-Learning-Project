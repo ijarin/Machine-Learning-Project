{
  "nbformat": 4,
  "nbformat_minor": 0,
  "metadata": {
    "colab": {
      "name": "HW_5_Problem1.ipynb",
      "provenance": [],
      "collapsed_sections": []
    },
    "kernelspec": {
      "name": "python3",
      "display_name": "Python 3"
    }
  },
  "cells": [
    {
      "cell_type": "code",
      "metadata": {
        "id": "vw2eGBZeSkXJ"
      },
      "source": [
        "# Assign input x and observed output b\n",
        "import numpy as np\n",
        "import matplotlib.pyplot as plt\n",
        "import math\n",
        "x=np.arange(-.5,.6,.1)\n",
        "pii=math.pi\n",
        "b=np.sin(2*pii*x)\n",
        "\n"
      ],
      "execution_count": 1,
      "outputs": []
    },
    {
      "cell_type": "code",
      "metadata": {
        "id": "v_4Xrn8mX4-h"
      },
      "source": [
        "#create the third (m=3) order polynomial matrix X\n",
        "def calc_matrix(x,m):\n",
        "  n=len(x)\n",
        "  #m=3\n",
        "  A=np.zeros((n,m+1))\n",
        "  for i in range(m+1):\n",
        "      A[:,i]=x**i\n",
        "      #A[:,1]=x\n",
        "      #A[:,2]=np.square(x)\n",
        "      #A[:,3]=x**3\n",
        "  \n",
        "  return A\n",
        "\n"
      ],
      "execution_count": 2,
      "outputs": []
    },
    {
      "cell_type": "code",
      "metadata": {
        "id": "Tz6uvx9hjM04"
      },
      "source": [
        "#calculate the matrix A\n",
        "A=calc_matrix(x,3)\n"
      ],
      "execution_count": 3,
      "outputs": []
    },
    {
      "cell_type": "code",
      "metadata": {
        "id": "cwff88vEa8zC",
        "outputId": "e7649068-ae57-4b24-a139-5700f511c08d",
        "colab": {
          "base_uri": "https://localhost:8080/",
          "height": 35
        }
      },
      "source": [
        "#calculate w with regression\n",
        "#a1=np.dot(np.transpose(A),A)\n",
        "#a1_inv=np.linalg.inv(a1)\n",
        "#a1_inv.shape\n",
        "#a2=np.dot(a1_inv,np.transpose(A))\n",
        "#a3=np.dot(a2,b)\n",
        "#w=a3\n",
        "#print(w)"
      ],
      "execution_count": 4,
      "outputs": [
        {
          "output_type": "stream",
          "text": [
            "[-2.22044605e-16  5.17147161e+00  1.16573418e-15 -2.11939582e+01]\n"
          ],
          "name": "stdout"
        }
      ]
    },
    {
      "cell_type": "code",
      "metadata": {
        "id": "SlFSKZyZc04r"
      },
      "source": [
        "#calculate y when m=3\n",
        "#y3=np.dot(A,w)\n",
        "#y3"
      ],
      "execution_count": null,
      "outputs": []
    },
    {
      "cell_type": "code",
      "metadata": {
        "id": "uh8JgVQAjvku"
      },
      "source": [
        "#The taylor series expansion of sin(x)=x-(1/3!)x^3\n",
        "x1=np.arange(-.5,.6,.1)\n",
        "xt=2*pii*x1               #here x1=xt\n",
        "y_taylor=xt-(xt**3)*(1/math.factorial(3))"
      ],
      "execution_count": 4,
      "outputs": []
    },
    {
      "cell_type": "code",
      "metadata": {
        "id": "O8AEfOEL1Zq7"
      },
      "source": [
        "#GRADIENT DESCENT\n",
        "def gradient_descent(x, y, theta, iterations, alpha):\n",
        "    past_costs = []\n",
        "    past_thetas = [theta]\n",
        "    m=y.size\n",
        "    for i in range(iterations):\n",
        "        prediction = np.dot(x, theta)\n",
        "        error = prediction - y\n",
        "        cost = 1/(2*m) * np.dot(error.T, error)\n",
        "        past_costs.append(cost)\n",
        "        theta = theta - (alpha * (1/m) * np.dot(x.T, error))\n",
        "        past_thetas.append(theta)\n",
        "        \n",
        "    return past_thetas, past_costs\n",
        "\n",
        "\n"
      ],
      "execution_count": 5,
      "outputs": []
    },
    {
      "cell_type": "code",
      "metadata": {
        "id": "JHH018fvj3Tx",
        "outputId": "068a6efc-8928-470d-efbc-bf774ffa80cf",
        "colab": {
          "base_uri": "https://localhost:8080/",
          "height": 35
        }
      },
      "source": [
        "#Pass the relevant variables to the function and get the new values of weights back fir gradient decent\n",
        "iter=3000\n",
        "l=1.5\n",
        "w1=np.random.rand(4)\n",
        "W, costs = gradient_descent(A, y_taylor, w1, iter, l)\n",
        "w_new = W[-1]\n",
        "y_gradient=np.dot(A,w_new)\n",
        "w_new"
      ],
      "execution_count": 22,
      "outputs": [
        {
          "output_type": "execute_result",
          "data": {
            "text/plain": [
              "array([-2.84014488e-16,  5.64018514e+00,  1.82010341e-15, -3.77490024e+01])"
            ]
          },
          "metadata": {
            "tags": []
          },
          "execution_count": 22
        }
      ]
    },
    {
      "cell_type": "code",
      "metadata": {
        "id": "d2-k8VeBgjfi",
        "outputId": "118291b5-2109-4594-b28b-62e5782f7c07",
        "colab": {
          "base_uri": "https://localhost:8080/",
          "height": 302
        }
      },
      "source": [
        "#plt.plot(x, b, linestyle='--',marker='.',color='black',label='Actual Observation',linewidth=2)  \n",
        "plt.plot(x, y_gradient, 'r',marker='o',label='Prediction with GD when m=3',linewidth=2) \n",
        "plt.plot(x1, y_taylor,'black',marker='o',label='Taylor Series Calculation when m=3',linewidth=1.5)\n",
        "plt.xlabel('x',fontsize='15')\n",
        "plt.ylabel('y',fontsize='15')\n",
        "plt.legend()"
      ],
      "execution_count": 23,
      "outputs": [
        {
          "output_type": "execute_result",
          "data": {
            "text/plain": [
              "<matplotlib.legend.Legend at 0x7f2655697a58>"
            ]
          },
          "metadata": {
            "tags": []
          },
          "execution_count": 23
        },
        {
          "output_type": "display_data",
          "data": {
            "image/png": "[encoded data removed]",
            "text/plain": [
              "<Figure size 432x288 with 1 Axes>"
            ]
          },
          "metadata": {
            "tags": [],
            "needs_background": "light"
          }
        }
      ]
    },
    {
      "cell_type": "code",
      "metadata": {
        "id": "ZCNX_5cp_u0g",
        "outputId": "68ca1af6-57ff-4ed7-8427-1a21053c05e9",
        "colab": {
          "base_uri": "https://localhost:8080/",
          "height": 295
        }
      },
      "source": [
        "#Plot the cost function...\n",
        "plt.title('Cost Function J')\n",
        "plt.xlabel('No. of iterations')\n",
        "plt.ylabel('Cost')\n",
        "plt.plot(costs,'green',linewidth=2.5)\n",
        "plt.show()"
      ],
      "execution_count": 25,
      "outputs": [
        {
          "output_type": "display_data",
          "data": {
            "image/png": "[encoded data removed]",
            "text/plain": [
              "<Figure size 432x288 with 1 Axes>"
            ]
          },
          "metadata": {
            "tags": [],
            "needs_background": "light"
          }
        }
      ]
    }
  ]
}