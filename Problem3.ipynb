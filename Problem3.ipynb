{
  "nbformat": 4,
  "nbformat_minor": 0,
  "metadata": {
    "colab": {
      "name": "Problem3.ipynb",
      "provenance": []
    },
    "kernelspec": {
      "name": "python3",
      "display_name": "Python 3"
    }
  },
  "cells": [
    {
      "cell_type": "code",
      "metadata": {
        "id": "7mSgtrG9WvBx"
      },
      "source": [
        "x_in=[1980,1982,1984,1986,1988,1990,1992,1994,1996,1998,2000]   #x =year\n",
        "y_in=[338.7,341.1,\t344.4, 347.2,351.5,354.2,356.4,\t358.9,362.6,366.6,369.4] # CO2 level with respect to year util 2000"
      ],
      "execution_count": 1,
      "outputs": []
    },
    {
      "cell_type": "code",
      "metadata": {
        "id": "wUPKl2gDZith"
      },
      "source": [
        "#calculate Sxx=(xi-xbar)^2\n",
        "#calculate xbar until 2000\n",
        "def Calc_Sxx(x_in,y_in):\n",
        "     n=len(x_in)\n",
        "     xbar=sum(x_in)/n\n",
        "     ybar=sum(y_in)/n\n",
        "#calculate Sxx\n",
        "     Sxx=0\n",
        "     for i in range(0,n):\n",
        "        S=(x_in[i]-xbar)**2\n",
        "        Sxx=S+Sxx\n",
        "  #calculate Sxy to calculate new value\n",
        "     Sxy=0\n",
        "     for i in range(0,n):\n",
        "        S=(x_in[i]-xbar)*y_in[i]\n",
        "        Sxy=S+Sxy\n",
        "     return Sxx,Sxy,xbar,ybar"
      ],
      "execution_count": 2,
      "outputs": []
    },
    {
      "cell_type": "code",
      "metadata": {
        "id": "48QtoPaYan-y",
        "outputId": "048d07a4-31c6-44f4-fcf2-64fa9b899354",
        "colab": {
          "base_uri": "https://localhost:8080/",
          "height": 35
        }
      },
      "source": [
        "#calculate b1 and b0\n",
        "[Sxx,Sxy,xbar,ybar]=Calc_Sxx(x_in,y_in)\n",
        "b1=(Sxy/Sxx)\n",
        "b0=ybar-b1*xbar\n",
        "print(b0,b1)"
      ],
      "execution_count": 3,
      "outputs": [
        {
          "output_type": "stream",
          "text": [
            "-2707.254545454546 1.5381818181818185\n"
          ],
          "name": "stdout"
        }
      ]
    },
    {
      "cell_type": "code",
      "metadata": {
        "id": "KdLGFF7Catc8",
        "outputId": "49368984-ea20-4b4f-b2b7-19bed3cd9ec4",
        "colab": {
          "base_uri": "https://localhost:8080/",
          "height": 35
        }
      },
      "source": [
        "y_20=2020*b1+b0    #y=b0+b1x\n",
        "print(y_20)"
      ],
      "execution_count": 4,
      "outputs": [
        {
          "output_type": "stream",
          "text": [
            "399.8727272727274\n"
          ],
          "name": "stdout"
        }
      ]
    },
    {
      "cell_type": "code",
      "metadata": {
        "id": "F6AXQdSvlkqM"
      },
      "source": [
        "#Fill the missing data of 2020\n",
        "x_new=[1980,1982,1984,1986,1988,1990,1992,1994,1996,1998,2000,2020]   #x =year\n",
        "y_new=[338.7,341.1,\t344.4, 347.2,351.5,354.2,356.4,\t358.9,362.6,366.6,369.4,399.87] # CO2 level with respect to year util 2000"
      ],
      "execution_count": 10,
      "outputs": []
    },
    {
      "cell_type": "code",
      "metadata": {
        "id": "vt-vHUEFlqbz",
        "outputId": "aa5306af-b74d-4675-b559-8177e99c10ad",
        "colab": {
          "base_uri": "https://localhost:8080/",
          "height": 35
        }
      },
      "source": [
        "#Calculate CO2 for 2030\n",
        "[Sxx_new,Sxy_new,xbar_new,ybar_new]=Calc_Sxx(x_new,y_new)\n",
        "b1_new=(Sxy_new/Sxx_new)\n",
        "b0_new=ybar_new-b1_new*xbar_new\n",
        "y_30=2030*b1_new+b0_new    #y=b0+b1x\n",
        "print(y_30)\n"
      ],
      "execution_count": 11,
      "outputs": [
        {
          "output_type": "stream",
          "text": [
            "415.2520948616602\n"
          ],
          "name": "stdout"
        }
      ]
    }
  ]
}