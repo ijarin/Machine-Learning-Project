{
  "nbformat": 4,
  "nbformat_minor": 0,
  "metadata": {
    "colab": {
      "name": "Perceptron_for_AND.ipynb",
      "provenance": []
    },
    "kernelspec": {
      "name": "python3",
      "display_name": "Python 3"
    }
  },
  "cells": [
    {
      "cell_type": "code",
      "metadata": {
        "id": "zxxodY31ogzN",
        "colab_type": "code",
        "colab": {
          "base_uri": "https://localhost:8080/",
          "height": 72
        },
        "outputId": "b63d25cb-387f-408e-e6d7-65d42e06fb9e"
      },
      "source": [
        "#create the truth table for AND gate\n",
        "import numpy as np\n",
        "x=np.array([[1,1,1,1],[0,0,1,1],[0,1,0,1]]) #x0,x1,x2\n",
        "y=np.array([0,0,0,1]) #output\n",
        "print(\"The Truth Table:\",x,y)\n"
      ],
      "execution_count": null,
      "outputs": [
        {
          "output_type": "stream",
          "text": [
            "The Truth Table: [[1 1 1 1]\n",
            " [0 0 1 1]\n",
            " [0 1 0 1]] [0 0 0 1]\n"
          ],
          "name": "stdout"
        }
      ]
    },
    {
      "cell_type": "code",
      "metadata": {
        "id": "xDSYO7f7rn6R",
        "colab_type": "code",
        "colab": {
          "base_uri": "https://localhost:8080/",
          "height": 35
        },
        "outputId": "2dede95f-23eb-4d85-b50f-41cd7a53ce84"
      },
      "source": [
        "#Pick the random weights (w0,w1,w2)\n",
        "import random\n",
        "w0=random.uniform(-1, 1)\n",
        "w1=random.uniform(-1, 1)\n",
        "w2=random.uniform(-1, 1)\n",
        "w=np.array([w0,w1,w2])\n",
        "print(w)"
      ],
      "execution_count": null,
      "outputs": [
        {
          "output_type": "stream",
          "text": [
            "[ 0.47653407 -0.63026371  0.47186965]\n"
          ],
          "name": "stdout"
        }
      ]
    },
    {
      "cell_type": "code",
      "metadata": {
        "id": "-4Qlf6PLaIjb",
        "colab_type": "code",
        "colab": {}
      },
      "source": [
        "w_initial=[w0, w1, w2]"
      ],
      "execution_count": null,
      "outputs": []
    },
    {
      "cell_type": "code",
      "metadata": {
        "id": "MWjcRokQuzq_",
        "colab_type": "code",
        "colab": {}
      },
      "source": [
        "#calculate the slope 'm' and co-efficient 'c' of y=mx+c\n",
        "def points(X,W):\n",
        "  c=-W[0]/W[2]\n",
        "  m=-W[1]/W[2]\n",
        "  y=np.multiply(X,m)+c\n",
        "  return y"
      ],
      "execution_count": null,
      "outputs": []
    },
    {
      "cell_type": "code",
      "metadata": {
        "id": "Hx-aZtnf2ra_",
        "colab_type": "code",
        "colab": {}
      },
      "source": [
        "#check the weights and find if it reach the expected output values\n",
        "def predict(row, weights):\n",
        "\tactivation = weights[0]\n",
        "\tfor i in range(len(row)-1):\n",
        "\t\tactivation += weights[i + 1] * row[i]\n",
        "\treturn 1.0 if activation >= 0.0 else 0.0"
      ],
      "execution_count": null,
      "outputs": []
    },
    {
      "cell_type": "code",
      "metadata": {
        "id": "mhGc7OOt4--t",
        "colab_type": "code",
        "colab": {
          "base_uri": "https://localhost:8080/",
          "height": 90
        },
        "outputId": "134fced8-e2c2-4396-9867-6767137c356b"
      },
      "source": [
        "#create the truth table (merging x and y)\n",
        "truth_table=np.array([[0,0,0],[0,1,0],[1,0,0],[1,1,1]])\n",
        "print(truth_table)"
      ],
      "execution_count": null,
      "outputs": [
        {
          "output_type": "stream",
          "text": [
            "[[0 0 0]\n",
            " [0 1 0]\n",
            " [1 0 0]\n",
            " [1 1 1]]\n"
          ],
          "name": "stdout"
        }
      ]
    },
    {
      "cell_type": "code",
      "metadata": {
        "id": "1gnbxam3M4pJ",
        "colab_type": "code",
        "colab": {
          "base_uri": "https://localhost:8080/",
          "height": 90
        },
        "outputId": "82490770-78cb-47c6-b975-cc70051cc550"
      },
      "source": [
        "#Check if initial weight values can predict the output\n",
        "for row in truth_table:\n",
        "  prediction=predict(row,w) #w=initial random weights (w0,w1,w2)\n",
        "  print(\"Expected=%d, Predicted=%d\" % (row[-1], prediction))\n",
        "  #e=row[-1]-prediction\n",
        "  #print(e)\n"
      ],
      "execution_count": null,
      "outputs": [
        {
          "output_type": "stream",
          "text": [
            "Expected=0, Predicted=1\n",
            "Expected=0, Predicted=1\n",
            "Expected=0, Predicted=0\n",
            "Expected=1, Predicted=1\n"
          ],
          "name": "stdout"
        }
      ]
    },
    {
      "cell_type": "code",
      "metadata": {
        "id": "-auAYsvSMx68",
        "colab_type": "code",
        "colab": {}
      },
      "source": [
        "# Estimate Perceptron weights  calculating epoch independently and converged\n",
        "def train_weights(train, l_rate, n_epoch,weights):\n",
        "\t#weights = [0.0 for i in range(len(train[0]))]\n",
        "\tfor epoch in range(n_epoch):\n",
        "\t\t#error=100\n",
        "\t\tsum_error = 0.0\n",
        "\t\tfor row in train:\n",
        "\t\t\tprediction = predict(row, weights)\n",
        "\t\t\terror = row[-1] - prediction\n",
        "\t\t\tsum_error += error**2\n",
        "\t\t\tweights[0] = weights[0] + l_rate * error\n",
        "\t\t\tfor i in range(len(row)-1):\n",
        "\t\t\t\tweights[i + 1] = weights[i + 1] + l_rate * error * row[i]\n",
        "\t\tprint('epoch=%d, lrate=%.3f, error=%.3f' % (epoch, l_rate, sum_error))\n",
        "\treturn weights"
      ],
      "execution_count": null,
      "outputs": []
    },
    {
      "cell_type": "code",
      "metadata": {
        "id": "MGJ-ScFRApIp",
        "colab_type": "code",
        "colab": {
          "base_uri": "https://localhost:8080/",
          "height": 399
        },
        "outputId": "90167aac-e363-4e9b-92cd-1049a72ec4ce"
      },
      "source": [
        "#calculate the weights using Stochastic gradient descent using number of epoch=20\n",
        "l_rate = 0.1\n",
        "n_epoch = 20   #My all results were right within epoch=20, if needed please increase the number of epoch\n",
        "weights = train_weights(truth_table, l_rate, n_epoch,w)\n",
        "print(weights)"
      ],
      "execution_count": null,
      "outputs": [
        {
          "output_type": "stream",
          "text": [
            "epoch=0, lrate=0.100, error=2.000\n",
            "epoch=1, lrate=0.100, error=3.000\n",
            "epoch=2, lrate=0.100, error=3.000\n",
            "epoch=3, lrate=0.100, error=3.000\n",
            "epoch=4, lrate=0.100, error=2.000\n",
            "epoch=5, lrate=0.100, error=2.000\n",
            "epoch=6, lrate=0.100, error=1.000\n",
            "epoch=7, lrate=0.100, error=2.000\n",
            "epoch=8, lrate=0.100, error=2.000\n",
            "epoch=9, lrate=0.100, error=1.000\n",
            "epoch=10, lrate=0.100, error=0.000\n",
            "epoch=11, lrate=0.100, error=0.000\n",
            "epoch=12, lrate=0.100, error=0.000\n",
            "epoch=13, lrate=0.100, error=0.000\n",
            "epoch=14, lrate=0.100, error=0.000\n",
            "epoch=15, lrate=0.100, error=0.000\n",
            "epoch=16, lrate=0.100, error=0.000\n",
            "epoch=17, lrate=0.100, error=0.000\n",
            "epoch=18, lrate=0.100, error=0.000\n",
            "epoch=19, lrate=0.100, error=0.000\n",
            "[-0.22346593  0.06973629  0.17186965]\n"
          ],
          "name": "stdout"
        }
      ]
    },
    {
      "cell_type": "code",
      "metadata": {
        "id": "YWvh58gRHLCt",
        "colab_type": "code",
        "colab": {
          "base_uri": "https://localhost:8080/",
          "height": 90
        },
        "outputId": "9ad0cafd-c6b1-4c68-ea44-daa9cd6eed5f"
      },
      "source": [
        "#Check if calculated weight values can predict the output\n",
        "for row in truth_table:\n",
        "  prediction=predict(row,weights) #w=initial random weights (w0,w1,w2)\n",
        "  print(\"Expected=%d, Predicted=%d\" % (row[-1], prediction))\n",
        "  #e=row[-1]-prediction\n",
        "  #print(e)\n"
      ],
      "execution_count": null,
      "outputs": [
        {
          "output_type": "stream",
          "text": [
            "Expected=0, Predicted=0\n",
            "Expected=0, Predicted=0\n",
            "Expected=0, Predicted=0\n",
            "Expected=1, Predicted=1\n"
          ],
          "name": "stdout"
        }
      ]
    },
    {
      "cell_type": "code",
      "metadata": {
        "id": "RQc1ceEQHaIO",
        "colab_type": "code",
        "colab": {
          "base_uri": "https://localhost:8080/",
          "height": 35
        },
        "outputId": "602727f4-6099-4741-8c87-7ded7e49b614"
      },
      "source": [
        "weights"
      ],
      "execution_count": null,
      "outputs": [
        {
          "output_type": "execute_result",
          "data": {
            "text/plain": [
              "array([-0.21074825,  0.14587129,  0.10507725])"
            ]
          },
          "metadata": {
            "tags": []
          },
          "execution_count": 16
        }
      ]
    },
    {
      "cell_type": "code",
      "metadata": {
        "id": "DzbsNd_aI1sl",
        "colab_type": "code",
        "colab": {}
      },
      "source": [
        "#Plot the values against the actual standard one\n",
        "#calculate points over X-axis and Y-axis\n",
        "wt=np.array([-1,.95,.95])\n",
        "px=np.array([1,0]) #random value for x1, for standard weights, calculated manually \n",
        "py1_s=points(px[0],wt) #calculate the value for x2,for standard weights\n",
        "py2_s=points(px[1],wt)\n",
        "py_s=np.array([py1_s,py2_s])\n",
        "px=np.array([1,0]) #random value for x1, for random initial weights\n",
        "py1_calc=points(px[0],weights) #calculate the value for x2,for random initial weights\n",
        "py2_calc=points(px[1],weights)\n",
        "py_calc=np.array([py1_calc,py2_calc])\n",
        "py1_rand=points(px[0],w_initial) #calculate the value for x2,for random initial weights\n",
        "py2_rand=points(px[1],w_initial)\n",
        "py_rand=np.array([py1_rand,py2_rand])\n"
      ],
      "execution_count": null,
      "outputs": []
    },
    {
      "cell_type": "code",
      "metadata": {
        "id": "HlNS4l6FJqP3",
        "colab_type": "code",
        "colab": {
          "base_uri": "https://localhost:8080/",
          "height": 302
        },
        "outputId": "3f6a08c3-717c-431b-a8cb-9f6a34601314"
      },
      "source": [
        "import matplotlib.pyplot as plt\n",
        "from google.colab import files\n",
        "test1 = plt.figure()\n",
        "plt.plot(px, py_calc, linestyle='--',marker='.',color='m',label='Calculated Boundary',linewidth=1.2)  \n",
        "plt.plot(px, py_s,linestyle='--', marker='.',color='red',label='Expected/Standard boundary',linewidth=1.2) \n",
        "plt.plot(px, py_rand,linestyle='--', marker='.',color='green',label='Boundary with Random Initial Weights',linewidth=1.2) \n",
        "# naming the x axis \n",
        "x=plt.xlabel('X1', fontsize='15') \n",
        "x.set_color(\"black\")\n",
        "# naming the y axis \n",
        "y=plt.ylabel('X2 ',fontsize='15') \n",
        "y.set_color(\"black\")\n",
        "\n",
        "plt.legend()\n",
        "#plt.ylim([0,2])"
      ],
      "execution_count": null,
      "outputs": [
        {
          "output_type": "execute_result",
          "data": {
            "text/plain": [
              "<matplotlib.legend.Legend at 0x7f87930c0dd8>"
            ]
          },
          "metadata": {
            "tags": []
          },
          "execution_count": 15
        },
        {
          "output_type": "display_data",
          "data": {
            "image/png": "[encoded data removed]",
            "text/plain": [
              "<Figure size 432x288 with 1 Axes>"
            ]
          },
          "metadata": {
            "tags": [],
            "needs_background": "light"
          }
        }
      ]
    },
    {
      "cell_type": "code",
      "metadata": {
        "id": "TL2FWN0Eb3Zf",
        "colab_type": "code",
        "colab": {
          "base_uri": "https://localhost:8080/",
          "height": 35
        },
        "outputId": "0fc4c1b8-f6b5-4054-8de1-fa8fd415de30"
      },
      "source": [
        "py_rand"
      ],
      "execution_count": null,
      "outputs": [
        {
          "output_type": "execute_result",
          "data": {
            "text/plain": [
              "array([1.85735518, 2.17944666])"
            ]
          },
          "metadata": {
            "tags": []
          },
          "execution_count": 22
        }
      ]
    },
    {
      "cell_type": "code",
      "metadata": {
        "id": "mZB3PMP4JjaT",
        "colab_type": "code",
        "colab": {}
      },
      "source": [
        "#From here, this is just extra part, just coded differently, but expected results are same"
      ],
      "execution_count": null,
      "outputs": []
    },
    {
      "cell_type": "code",
      "metadata": {
        "id": "Y_jBP8BZFAuv",
        "colab_type": "code",
        "colab": {}
      },
      "source": [
        "#Weight calculation based on changing wrong predictions\n",
        "def train_new(train,l_rate,n_epoch,weights):\n",
        "  for epoch in range(n_epoch):\n",
        "    abs_error=0\n",
        "    sum_error=0\n",
        "    for row in train:\n",
        "      prediction=predict(row,weights)\n",
        "      #print(prediction)\n",
        "      error= row[-1]-prediction\n",
        "      sum_error += error**2\n",
        "      abs_error=error**2\n",
        "      weights[0]= weights[0] + l_rate * error\n",
        "      #print((abs_error))\n",
        "      #print(abs_error)\n",
        "      for i in range(len(row)-1):\n",
        "        if abs_error>0:\n",
        "           weights[i+1]=weights[i+1]+error*row[i]*l_rate\n",
        "        else:\n",
        "           weights[i+1]=weights[i+1]\n",
        "    print('epoch=%d, lrate=%.3f, error=%.3f' % (epoch, l_rate, sum_error))\n",
        "  return weights"
      ],
      "execution_count": null,
      "outputs": []
    },
    {
      "cell_type": "code",
      "metadata": {
        "id": "szSkGmnGD4XA",
        "colab_type": "code",
        "colab": {
          "base_uri": "https://localhost:8080/",
          "height": 417
        },
        "outputId": "d2bb7b45-155b-41b8-d921-c931309c6895"
      },
      "source": [
        "l_rate = 0.1\n",
        "n_epoch = 20\n",
        "print(ws)\n",
        "weights = train_new(truth_table, l_rate, n_epoch,ws)\n",
        "print(weights)"
      ],
      "execution_count": null,
      "outputs": [
        {
          "output_type": "stream",
          "text": [
            "[0.6544425, 0.07909314, -0.91720387]\n",
            "epoch=0, lrate=0.100, error=3.000\n",
            "epoch=1, lrate=0.100, error=3.000\n",
            "epoch=2, lrate=0.100, error=3.000\n",
            "epoch=3, lrate=0.100, error=3.000\n",
            "epoch=4, lrate=0.100, error=3.000\n",
            "epoch=5, lrate=0.100, error=3.000\n",
            "epoch=6, lrate=0.100, error=3.000\n",
            "epoch=7, lrate=0.100, error=2.000\n",
            "epoch=8, lrate=0.100, error=2.000\n",
            "epoch=9, lrate=0.100, error=2.000\n",
            "epoch=10, lrate=0.100, error=2.000\n",
            "epoch=11, lrate=0.100, error=3.000\n",
            "epoch=12, lrate=0.100, error=2.000\n",
            "epoch=13, lrate=0.100, error=1.000\n",
            "epoch=14, lrate=0.100, error=0.000\n",
            "epoch=15, lrate=0.100, error=0.000\n",
            "epoch=16, lrate=0.100, error=0.000\n",
            "epoch=17, lrate=0.100, error=0.000\n",
            "epoch=18, lrate=0.100, error=0.000\n",
            "epoch=19, lrate=0.100, error=0.000\n",
            "[-0.2455574999999999, 0.17909314, 0.08279612999999986]\n"
          ],
          "name": "stdout"
        }
      ]
    }
  ]
}