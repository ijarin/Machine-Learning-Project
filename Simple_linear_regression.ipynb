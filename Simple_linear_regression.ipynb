{
  "nbformat": 4,
  "nbformat_minor": 0,
  "metadata": {
    "colab": {
      "name": "Simple_linear_regression.ipynb",
      "provenance": []
    },
    "kernelspec": {
      "name": "python3",
      "display_name": "Python 3"
    }
  },
  "cells": [
    {
      "cell_type": "code",
      "metadata": {
        "id": "7mSgtrG9WvBx",
        "colab_type": "code",
        "colab": {}
      },
      "source": [
        "x=[1980,1982,1984,1986,1988,1990,1992,1994,1996,1998,2000,2020]\n",
        "y=[338.7,341.1,\t344.4, 347.2,351.5,354.2,356.4,\t358.9,362.6,366.6,369.4,411.16]"
      ],
      "execution_count": 24,
      "outputs": []
    },
    {
      "cell_type": "code",
      "metadata": {
        "id": "wUPKl2gDZith",
        "colab_type": "code",
        "colab": {}
      },
      "source": [
        "#calculate Sxx=(xi-xbar)^2\n",
        "#calculate xbar\n",
        "n=len(x)\n",
        "xbar=sum(x)/n\n",
        "ybar=sum(y)/n\n",
        "#calculate Sxx\n",
        "Sxx=0\n",
        "for i in range(0,n):\n",
        "  S=(x[i]-xbar)**2\n",
        "  Sxx=S+Sxx"
      ],
      "execution_count": 25,
      "outputs": []
    },
    {
      "cell_type": "code",
      "metadata": {
        "id": "0GNh-1hBaiaA",
        "colab_type": "code",
        "colab": {}
      },
      "source": [
        "#calculate Sxy\n",
        "Sxy=0\n",
        "for i in range(0,n):\n",
        "  S=(x[i]-xbar)*y[i]\n",
        "  Sxy=S+Sxy"
      ],
      "execution_count": 26,
      "outputs": []
    },
    {
      "cell_type": "code",
      "metadata": {
        "id": "48QtoPaYan-y",
        "colab_type": "code",
        "colab": {
          "base_uri": "https://localhost:8080/",
          "height": 35
        },
        "outputId": "a3414c86-aec7-4ebe-ef27-52351abd6845"
      },
      "source": [
        "#calculate b1 and b0\n",
        "b1=(Sxy/Sxx)\n",
        "b0=ybar-b1*xbar\n",
        "print(b0,b1)"
      ],
      "execution_count": 27,
      "outputs": [
        {
          "output_type": "stream",
          "text": [
            "-3195.2246113306996 1.783557312252965\n"
          ],
          "name": "stdout"
        }
      ]
    },
    {
      "cell_type": "code",
      "metadata": {
        "id": "KdLGFF7Catc8",
        "colab_type": "code",
        "colab": {
          "base_uri": "https://localhost:8080/",
          "height": 35
        },
        "outputId": "8355cc5c-f385-4b14-ea90-fc9662053f7c"
      },
      "source": [
        "y_30=2030*b1+b0\n",
        "print(y_30)"
      ],
      "execution_count": 28,
      "outputs": [
        {
          "output_type": "stream",
          "text": [
            "425.39673254281934\n"
          ],
          "name": "stdout"
        }
      ]
    }
  ]
}